{
 "cells": [
  {
   "cell_type": "code",
   "execution_count": 38,
   "metadata": {},
   "outputs": [],
   "source": [
    "def check1(l1,l2):\n",
    "    size=len(l1)\n",
    "    for i in range(size):\n",
    "        c=0\n",
    "        j=i+1\n",
    "        for j in range(size):\n",
    "            k=j+1\n",
    "            for k in range(size):\n",
    "                for l in range(size):\n",
    "                    if(l1[i]+l1[j]+l1[k]==l2[l]):\n",
    "                        print([l1[i],l1[j],l1[k]],[l2[l]])\n",
    "                        c+=1\n",
    "                        return c\n",
    "    \n",
    "    \n",
    "    \n",
    "\n",
    "def check2(l1):\n",
    "    size=len(l1)\n",
    "    sum1=[]\n",
    "    summ=0\n",
    "    sum2=0\n",
    "    \n",
    "    for i in range(len(l1)):\n",
    "        j=i+1\n",
    "        for j in range(len(l1)):\n",
    "            summ=l1[i]+l1[j]\n",
    "            sum1.append(summ)\n",
    "    return sum1\n",
    "            \n",
    "def check3(l1,l2,temp):\n",
    "    summ=0\n",
    "    sum2=0\n",
    "    result=[]\n",
    "    \n",
    "    for i in range(len(l2)):\n",
    "        j=i+1\n",
    "        for j in range(len(l2)):\n",
    "            summ=l2[i]+l2[j]\n",
    "            if(summ in temp):\n",
    "                result.extend((l2[i],l2[j]))\n",
    "                ans=check4(l1,summ,result)\n",
    "                return ans\n",
    "    \n",
    "    \n",
    "def check4(l1,summ,result):\n",
    "    sum1=0\n",
    "    ans=[]\n",
    "    for i in range(len(l1)):\n",
    "        j=i+1\n",
    "        for j in range(len(l1)):\n",
    "            sum1=l1[i]+l1[j]\n",
    "            if(sum1==summ):\n",
    "                result.extend((l1[i],l1[j]))\n",
    "                ans=result\n",
    "                return ans\n",
    "    \n",
    "\n"
   ]
  },
  {
   "cell_type": "code",
   "execution_count": 52,
   "metadata": {},
   "outputs": [
    {
     "data": {
      "text/plain": [
       "[2, 19, 10, 11]"
      ]
     },
     "execution_count": 52,
     "metadata": {},
     "output_type": "execute_result"
    }
   ],
   "source": [
    "l2=[2,3,19,99,101]\n",
    "l1=[10,11,12,13,14] \n",
    "val=check1(l1,l2)\n",
    "val\n",
    "if(val!=1):\n",
    "    temp=[]\n",
    "temp=check2(l1)\n",
    "check3(l1,l2,temp)\n",
    "    "
   ]
  },
  {
   "cell_type": "code",
   "execution_count": 53,
   "metadata": {},
   "outputs": [
    {
     "name": "stdout",
     "output_type": "stream",
     "text": [
      "[1, 2, 6] [9]\n"
     ]
    }
   ],
   "source": [
    "l2=[9,10,11,12,13,14]\n",
    "l1=[1,2,3,4,5,6] \n",
    "val=fun(l1,l2)\n",
    "val\n",
    "if(val!=1):\n",
    "    temp=[]\n",
    "temp=check2(l1)\n",
    "check3(l1,l2,temp)\n",
    "    "
   ]
  }
 ],
 "metadata": {
  "kernelspec": {
   "display_name": "Python 3",
   "language": "python",
   "name": "python3"
  },
  "language_info": {
   "codemirror_mode": {
    "name": "ipython",
    "version": 3
   },
   "file_extension": ".py",
   "mimetype": "text/x-python",
   "name": "python",
   "nbconvert_exporter": "python",
   "pygments_lexer": "ipython3",
   "version": "3.8.5"
  }
 },
 "nbformat": 4,
 "nbformat_minor": 5
}
